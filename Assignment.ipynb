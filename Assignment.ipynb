{
 "cells": [
  {
   "cell_type": "markdown",
   "metadata": {},
   "source": [
    "# Assignment\n",
    "*  # Submitted by : \"MAHAD IQBAL\"\n",
    "*  ## Submitted to: \"Sir AMAD DURRANI\"\n",
    "*  ### Submission date : Sep 29, 2023"
   ]
  },
  {
   "cell_type": "markdown",
   "metadata": {},
   "source": [
    "Question: Write a Python program to find the sum of all even numbers from 1 to 100 using a loop."
   ]
  },
  {
   "cell_type": "code",
   "execution_count": null,
   "metadata": {},
   "outputs": [],
   "source": [
    "for n in range(1, 100):\n",
    "    if n % 2 == 0:\n",
    "        print(f\"Numbers are {n}\")"
   ]
  },
  {
   "cell_type": "markdown",
   "metadata": {},
   "source": [
    "Question 2 : Write a function that takes a list of numbers and returns a new list with only the even numbers."
   ]
  },
  {
   "cell_type": "code",
   "execution_count": 1,
   "metadata": {},
   "outputs": [],
   "source": [
    "list_1 = input(\"Enter numbers in list \").split()\n",
    "e_list = []\n",
    "for n in range(0, len(list_1)):\n",
    "    list_1[n] = int(list_1[n])\n",
    "    if list_1[n] % 2 == 0:\n",
    "        e_list.append(list_1[n])\n",
    "print(f\"Even numbers in the given lists are {e_list}\")\n"
   ]
  },
  {
   "cell_type": "markdown",
   "metadata": {},
   "source": [
    "Question 3 :Create a program that checks if a given number is prime or not using a loop and conditional statements."
   ]
  },
  {
   "cell_type": "code",
   "execution_count": 1,
   "metadata": {},
   "outputs": [],
   "source": [
    "num = int(input(\"Enter num to check for prime\"))\n",
    "if num == 1 or num == 0:\n",
    "        print(f\"{num} is not a prime\")\n",
    "for p in range(2, num):\n",
    "    if (num % p) == 0:\n",
    "        print(f\"Entered num {p} is not prime\")\n",
    "        print(f\"{p} times {num//p} is {num}\")\n",
    "        break\n",
    "    else:\n",
    "        print(f\"Entered number {num} is prime\")"
   ]
  },
  {
   "cell_type": "markdown",
   "metadata": {},
   "source": [
    "Question 4: Create a dictionary representing a student's grades in different subjects. Calculate the average grade."
   ]
  },
  {
   "cell_type": "code",
   "execution_count": null,
   "metadata": {},
   "outputs": [],
   "source": [
    "student = {'NAMES': {'MAHAD': {'subject': {'python':{'mark_p': ''},'AI':{'mark_ai': ''}, 'Data Science':{'mark_ds':''}}}}}\n",
    "a =(student['NAMES']['MAHAD']['subject']['python']['mark_p']) = int(input(\"Enter num of python\"))\n",
    "b = (student['NAMES']['MAHAD']['subject']['AI']['mark_ai']) = int(input(\"Enter number of AI\"))\n",
    "c = (student['NAMES']['MAHAD']['subject']['Data Science']['mark_ds']) = int(input(\"Enter marks of Data Science\"))\n",
    "avg = (a+b+c)//3\n",
    "print(f\"Average of {a},{b},{c} is {avg}\")\n"
   ]
  },
  {
   "cell_type": "markdown",
   "metadata": {},
   "source": [
    "Question 5: Write a program that reverses a given string without using any built-in reverse function."
   ]
  },
  {
   "cell_type": "code",
   "execution_count": null,
   "metadata": {},
   "outputs": [],
   "source": [
    "orignal_string = input(\"Enter value in string\")\n",
    "rev_str = \"\"\n",
    "for n in orignal_string:\n",
    "    rev_str = n + rev_str\n",
    "print(\"Reversed string:\",rev_str)"
   ]
  },
  {
   "cell_type": "markdown",
   "metadata": {},
   "source": [
    "Question 5: Create a function that finds the factorial of a given number using a loop."
   ]
  },
  {
   "cell_type": "code",
   "execution_count": 1,
   "metadata": {},
   "outputs": [],
   "source": [
    "number = int(input(\"Enter Number to find factorial\"))\n",
    "fact = 0\n",
    "for n in number:\n",
    " fact = fact * number\n",
    "print(f\"Factorial of {number} is {fact}\")"
   ]
  },
  {
   "cell_type": "markdown",
   "metadata": {},
   "source": [
    "Question 6: Write a Python program that counts the number of vowels in a string."
   ]
  },
  {
   "cell_type": "code",
   "execution_count": null,
   "metadata": {},
   "outputs": [],
   "source": [
    "str = input(\"Enter letters in string\")\n",
    "str = str.lower()\n",
    "print(str)\n",
    "vowel = \"aeiou\"\n",
    "vowel_count = 0\n",
    "for s in str:\n",
    "    if s in vowel:\n",
    "        vowel_count += 1\n",
    "print(f\"Total vowels in the {str} are {vowel_count}\")"
   ]
  },
  {
   "cell_type": "markdown",
   "metadata": {},
   "source": [
    "Question 7: Given a list of names, write a program to find the shortest and longest names in the list."
   ]
  },
  {
   "cell_type": "code",
   "execution_count": null,
   "metadata": {},
   "outputs": [],
   "source": [
    "names = str(input(\"Enter names in String\")).split()\n",
    "shortest_name = names[0]\n",
    "longest_name = names[0]\n",
    "for name in names:\n",
    "    if len(name) > len(longest_name):\n",
    "        longest_name = name\n",
    "    if len(name) < len(shortest_name):\n",
    "        shortest_name = name\n",
    "print(f\"Longest name is {longest_name}  and shortest name is {shortest_name}\")"
   ]
  },
  {
   "cell_type": "markdown",
   "metadata": {},
   "source": [
    "Question 8: Implement a function that checks if a given word is a palindrome."
   ]
  },
  {
   "cell_type": "code",
   "execution_count": null,
   "metadata": {},
   "outputs": [],
   "source": [
    "number = (input(\"Enter Number to check Palindrome\"))\n",
    "number = number.replace(\" \", \"\").lower()\n",
    "if number == number[:: -1]:\n",
    "    print(f\"The given string {number} is plaindrome\")\n",
    "else:print(f\"The given string {number} is not plaindrome\")"
   ]
  },
  {
   "cell_type": "markdown",
   "metadata": {},
   "source": [
    "Question 9: Create a program that finds the intersection of two lists."
   ]
  },
  {
   "cell_type": "code",
   "execution_count": null,
   "metadata": {},
   "outputs": [],
   "source": [
    "list_1 = input(\"Enter number in 1st list\").split()\n",
    "list_2 = input(\"Enter number uin 2nd list\").split()\n",
    "intersection_list = []\n",
    "for l in list_1:\n",
    "    if l in list_2:\n",
    "        intersection_list.append(l)\n",
    "print(intersection_list)"
   ]
  },
  {
   "cell_type": "markdown",
   "metadata": {},
   "source": [
    "Question 10: Write a Python function that accepts a list of integers and returns a new list with unique values (no duplicates)."
   ]
  },
  {
   "cell_type": "code",
   "execution_count": null,
   "metadata": {},
   "outputs": [],
   "source": [
    "number = str(input(\"Enter numbers in list\"))\n",
    "new_list = []\n",
    "for n in number:\n",
    "    if n not in new_list:\n",
    "        new_list.append(n)\n",
    "print(f\"new list is {new_list}\")"
   ]
  }
 ],
 "metadata": {
  "kernelspec": {
   "display_name": "Python 3",
   "language": "python",
   "name": "python3"
  },
  "language_info": {
   "codemirror_mode": {
    "name": "ipython",
    "version": 3
   },
   "file_extension": ".py",
   "mimetype": "text/x-python",
   "name": "python",
   "nbconvert_exporter": "python",
   "pygments_lexer": "ipython3",
   "version": "3.11.4"
  }
 },
 "nbformat": 4,
 "nbformat_minor": 2
}
